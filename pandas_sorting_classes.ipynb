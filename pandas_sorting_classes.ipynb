{
  "nbformat": 4,
  "nbformat_minor": 0,
  "metadata": {
    "colab": {
      "name": "pandas_sorting_classes.ipynb",
      "provenance": [],
      "collapsed_sections": [],
      "authorship_tag": "ABX9TyMtBYtqky8WNpaJvWIU6SzB",
      "include_colab_link": true
    },
    "kernelspec": {
      "name": "python3",
      "display_name": "Python 3"
    }
  },
  "cells": [
    {
      "cell_type": "markdown",
      "metadata": {
        "id": "view-in-github",
        "colab_type": "text"
      },
      "source": [
        "<a href=\"https://colab.research.google.com/github/Georgitanev/Python-OOP/blob/master/pandas_sorting_classes.ipynb\" target=\"_parent\"><img src=\"https://colab.research.google.com/assets/colab-badge.svg\" alt=\"Open In Colab\"/></a>"
      ]
    },
    {
      "cell_type": "markdown",
      "metadata": {
        "id": "OA6vHuEUS6hN",
        "colab_type": "text"
      },
      "source": [
        "Sort by price with pandas\n"
      ]
    },
    {
      "cell_type": "code",
      "metadata": {
        "id": "9Gv8xpbQBava",
        "colab_type": "code",
        "colab": {
          "base_uri": "https://localhost:8080/",
          "height": 104
        },
        "outputId": "a3d2be66-bddc-4077-9393-9534ce67c4a3"
      },
      "source": [
        "import pandas as pd\n",
        " \n",
        "cars = {'Brand': ['Honda Civic','Toyota Corolla','Ford Focus','Audi A4'],\n",
        "        'Price': [22000,25000,27000,35000],\n",
        "        'Year': [2015,2013,2018,2018]\n",
        "        }\n",
        " \n",
        "df = pd.DataFrame(cars, columns= ['Brand', 'Price','Year'])\n",
        "\n",
        "print (df)\n"
      ],
      "execution_count": 1,
      "outputs": [
        {
          "output_type": "stream",
          "text": [
            "            Brand  Price  Year\n",
            "0     Honda Civic  22000  2015\n",
            "1  Toyota Corolla  25000  2013\n",
            "2      Ford Focus  27000  2018\n",
            "3         Audi A4  35000  2018\n"
          ],
          "name": "stdout"
        }
      ]
    },
    {
      "cell_type": "code",
      "metadata": {
        "id": "O6XBwUT9TSqt",
        "colab_type": "code",
        "colab": {
          "base_uri": "https://localhost:8080/",
          "height": 104
        },
        "outputId": "ce0020bc-3dfd-4c42-c88b-6bd2ca1766c3"
      },
      "source": [
        "\"\"\" sorting by brand\"\"\"\n",
        "# sort - ascending order\n",
        "import pandas as pd\n",
        "\n",
        "# sort Brand - ascending order\n",
        "\n",
        "def sort_by(df):\n",
        "  df.sort_values(by=['Year'])\n",
        "  return df\n",
        "\n",
        "print(sort_by(df))"
      ],
      "execution_count": 14,
      "outputs": [
        {
          "output_type": "stream",
          "text": [
            "            Brand  Price  Year\n",
            "1  Toyota Corolla  25000  2013\n",
            "0     Honda Civic  22000  2015\n",
            "2      Ford Focus  27000  2018\n",
            "3         Audi A4  35000  2018\n"
          ],
          "name": "stdout"
        }
      ]
    },
    {
      "cell_type": "markdown",
      "metadata": {
        "id": "WPwHyFDvTQS0",
        "colab_type": "text"
      },
      "source": [
        "Sort by multiple columns – case 1\n"
      ]
    },
    {
      "cell_type": "code",
      "metadata": {
        "id": "a8K0ygRnVuAv",
        "colab_type": "code",
        "colab": {
          "base_uri": "https://localhost:8080/",
          "height": 190
        },
        "outputId": "2a3c1885-a3fa-43db-aef2-4fe9cf631f17"
      },
      "source": [
        "def sort_by_year_price(df):\n",
        "  df.sort_values(by=['Year','Price'])\n",
        "  print(df)\n",
        "  return df\n",
        "print(sort_by_year_price(df))\n"
      ],
      "execution_count": 12,
      "outputs": [
        {
          "output_type": "stream",
          "text": [
            "            Brand  Price  Year\n",
            "1  Toyota Corolla  25000  2013\n",
            "0     Honda Civic  22000  2015\n",
            "2      Ford Focus  27000  2018\n",
            "3         Audi A4  35000  2018\n",
            "            Brand  Price  Year\n",
            "1  Toyota Corolla  25000  2013\n",
            "0     Honda Civic  22000  2015\n",
            "2      Ford Focus  27000  2018\n",
            "3         Audi A4  35000  2018\n"
          ],
          "name": "stdout"
        }
      ]
    },
    {
      "cell_type": "markdown",
      "metadata": {
        "id": "Pfd2d3unWDSG",
        "colab_type": "text"
      },
      "source": [
        "Sort by multiple columns – case 2\n"
      ]
    },
    {
      "cell_type": "code",
      "metadata": {
        "id": "RMVbTP-YWGD-",
        "colab_type": "code",
        "colab": {
          "base_uri": "https://localhost:8080/",
          "height": 198
        },
        "outputId": "654c9b47-fd95-4942-eb88-d294ad803ce4"
      },
      "source": [
        "# Creating the dataframe  \n",
        "df_numbers = pd.DataFrame({'A': [1, 1, 2, 1, 2],\n",
        "                   'B': [0, 2, 3, 4, 5],\n",
        "                   'C': [1, 2, 1, 1, 2]}, columns=['A', 'B', 'C'])\n",
        "df_numbers"
      ],
      "execution_count": 17,
      "outputs": [
        {
          "output_type": "execute_result",
          "data": {
            "text/html": [
              "<div>\n",
              "<style scoped>\n",
              "    .dataframe tbody tr th:only-of-type {\n",
              "        vertical-align: middle;\n",
              "    }\n",
              "\n",
              "    .dataframe tbody tr th {\n",
              "        vertical-align: top;\n",
              "    }\n",
              "\n",
              "    .dataframe thead th {\n",
              "        text-align: right;\n",
              "    }\n",
              "</style>\n",
              "<table border=\"1\" class=\"dataframe\">\n",
              "  <thead>\n",
              "    <tr style=\"text-align: right;\">\n",
              "      <th></th>\n",
              "      <th>A</th>\n",
              "      <th>B</th>\n",
              "      <th>C</th>\n",
              "    </tr>\n",
              "  </thead>\n",
              "  <tbody>\n",
              "    <tr>\n",
              "      <th>0</th>\n",
              "      <td>1</td>\n",
              "      <td>0</td>\n",
              "      <td>1</td>\n",
              "    </tr>\n",
              "    <tr>\n",
              "      <th>1</th>\n",
              "      <td>1</td>\n",
              "      <td>2</td>\n",
              "      <td>2</td>\n",
              "    </tr>\n",
              "    <tr>\n",
              "      <th>2</th>\n",
              "      <td>2</td>\n",
              "      <td>3</td>\n",
              "      <td>1</td>\n",
              "    </tr>\n",
              "    <tr>\n",
              "      <th>3</th>\n",
              "      <td>1</td>\n",
              "      <td>4</td>\n",
              "      <td>1</td>\n",
              "    </tr>\n",
              "    <tr>\n",
              "      <th>4</th>\n",
              "      <td>2</td>\n",
              "      <td>5</td>\n",
              "      <td>2</td>\n",
              "    </tr>\n",
              "  </tbody>\n",
              "</table>\n",
              "</div>"
            ],
            "text/plain": [
              "   A  B  C\n",
              "0  1  0  1\n",
              "1  1  2  2\n",
              "2  2  3  1\n",
              "3  1  4  1\n",
              "4  2  5  2"
            ]
          },
          "metadata": {
            "tags": []
          },
          "execution_count": 17
        }
      ]
    },
    {
      "cell_type": "code",
      "metadata": {
        "id": "wLP5I-r5Yw8b",
        "colab_type": "code",
        "colab": {
          "base_uri": "https://localhost:8080/",
          "height": 86
        },
        "outputId": "2e2e2cef-7acf-46fb-957a-2a9add383c93"
      },
      "source": [
        "def group_by(df_numbers):\n",
        "  return df_numbers.groupby('A').mean()\n",
        "\n",
        "print(group_by(df_numbers))"
      ],
      "execution_count": 23,
      "outputs": [
        {
          "output_type": "stream",
          "text": [
            "     B         C\n",
            "A               \n",
            "1  2.0  1.333333\n",
            "2  4.0  1.500000\n"
          ],
          "name": "stdout"
        }
      ]
    },
    {
      "cell_type": "markdown",
      "metadata": {
        "id": "GGomAV2Ce08M",
        "colab_type": "text"
      },
      "source": [
        "# All that in class :)"
      ]
    },
    {
      "cell_type": "code",
      "metadata": {
        "id": "c2F2rNlYdHcC",
        "colab_type": "code",
        "colab": {
          "base_uri": "https://localhost:8080/",
          "height": 190
        },
        "outputId": "f003860e-898f-4905-ce11-e294354413bc"
      },
      "source": [
        "class MyClass:\n",
        "\n",
        "    def __init__(self, my_dataframe):\n",
        "        self.my_dataframe = my_dataframe\n",
        "    \n",
        "    def sort_by(self):\n",
        "      self.df = self.my_dataframe.sort_values(by=['Year'])\n",
        "      return self.df\n",
        "\n",
        "    def sort_by_year_price(self):\n",
        "      self.df = self.df.sort_values(by=['Year','Price'])\n",
        "      return self.df\n",
        "    \n",
        "    def group_by(self):\n",
        "      return df_numbers.groupby('A').mean()\n",
        "\n",
        "\n",
        "\n",
        "# print(group_by(df_numbers))\n",
        "\n",
        "a = MyClass(df)\n",
        "b = MyClass(df_numbers)\n",
        "\n",
        "print(a.sort_by())\n",
        "print()\n",
        "print(b.group_by())\n",
        "\n",
        "# b = MyClass(df_numbers)\n",
        "\n",
        "# print(a.sort_by())\n",
        "# print()\n",
        "# print(b)\n"
      ],
      "execution_count": 29,
      "outputs": [
        {
          "output_type": "stream",
          "text": [
            "            Brand  Price  Year\n",
            "1  Toyota Corolla  25000  2013\n",
            "0     Honda Civic  22000  2015\n",
            "2      Ford Focus  27000  2018\n",
            "3         Audi A4  35000  2018\n",
            "\n",
            "     B         C\n",
            "A               \n",
            "1  2.0  1.333333\n",
            "2  4.0  1.500000\n"
          ],
          "name": "stdout"
        }
      ]
    }
  ]
}